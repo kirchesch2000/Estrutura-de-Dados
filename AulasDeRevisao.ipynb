{
  "nbformat": 4,
  "nbformat_minor": 0,
  "metadata": {
    "colab": {
      "provenance": [],
      "collapsed_sections": []
    },
    "kernelspec": {
      "name": "python3",
      "display_name": "Python 3"
    },
    "language_info": {
      "name": "python"
    }
  },
  "cells": [
    {
      "cell_type": "markdown",
      "source": [
        "1 - Faça um programa para leitura de\n",
        "três notas parciais de um aluno. O programa deve calcular a média alcançada por\n",
        "aluno e apresentar:\n",
        "\n",
        "\n",
        "a) A mensagem\n",
        "\"Aprovado\", se a média for maior ou igual a 7, com a respectiva média\n",
        "alcançada;\n",
        "\n",
        "\n",
        "b) A mensagem\n",
        "\"Reprovado\", se a média for menor do que 7, com a respectiva média\n",
        "alcançada;\n",
        "\n",
        "c) A mensagem \"Aprovado com\n",
        "Distinção\", se a média for igual a 10"
      ],
      "metadata": {
        "id": "rf7P0zkb7mEy"
      }
    },
    {
      "cell_type": "code",
      "source": [
        "qtd = 0\n",
        "numero = 0\n",
        "while qtd < 3: \n",
        "  numeroEscrito = int(input(\"Digite sua nota: \"))\n",
        "  numero += numeroEscrito\n",
        "  qtd = qtd + 1\n",
        "\n",
        "media = numero / 3\n",
        "\n",
        "if media >= 7 and media < 10:\n",
        "   print('Aprovado')\n",
        "elif media < 7:\n",
        "   print('Reprovado')\n",
        "elif media == 10:\n",
        "   print('Aprovado com Distinção')\n",
        "elif media > 10 or media < 0: \n",
        "   print('Média invalida')\n",
        "\n",
        "print('A sua média é: ' + str(round(media,2)))\n",
        "  "
      ],
      "metadata": {
        "colab": {
          "base_uri": "https://localhost:8080/"
        },
        "id": "G77RPiBG7n1s",
        "outputId": "3670a621-c890-481a-f921-5593ad76ae33"
      },
      "execution_count": 6,
      "outputs": [
        {
          "output_type": "stream",
          "name": "stdout",
          "text": [
            "Digite sua nota: 5\n",
            "Digite sua nota: 7\n",
            "Digite sua nota: 7\n",
            "Reprovado\n",
            "A sua média é: 6.333333333333333\n"
          ]
        }
      ]
    },
    {
      "cell_type": "markdown",
      "source": [
        "2- Faça um programa que peça uma\n",
        "nota, entre zero e dez. Mostre uma mensagem caso o valor seja inválido e\n",
        "continue pedindo até que o usuário informe um valor válido."
      ],
      "metadata": {
        "id": "_fC1I0v6FRum"
      }
    },
    {
      "cell_type": "code",
      "source": [
        "qtd = False\n",
        "numero = 0\n",
        "while qtd == False: \n",
        "  numeroEscrito = int(input(\"Digite uma nota ente 0 e 10: \"))\n",
        "  if numeroEscrito > 10 or numeroEscrito < 0:\n",
        "    print('Nota invalida')\n",
        "    qtd = False\n",
        "  else:\n",
        "    print('Você escolheu a nota: ' + str(numeroEscrito))\n",
        "    qtd = True"
      ],
      "metadata": {
        "colab": {
          "base_uri": "https://localhost:8080/"
        },
        "id": "llV_4CASFcL7",
        "outputId": "784a3dd0-5757-412e-bc27-7cfe238dd9a0"
      },
      "execution_count": 8,
      "outputs": [
        {
          "output_type": "stream",
          "name": "stdout",
          "text": [
            "Digite uma nota ente 0 e 10: 5\n",
            "Você escolheu a nota: 5\n"
          ]
        }
      ]
    },
    {
      "cell_type": "markdown",
      "source": [
        "3- Faça\n",
        "um Programa que peça a temperatura em graus Fahrenheit, transforme e mostre a\n",
        "temperatura em graus Celsius. C = 5 * ((F-32) / 9)."
      ],
      "metadata": {
        "id": "7b-LPPcLGbbL"
      }
    },
    {
      "cell_type": "code",
      "source": [
        "temperatura = int(input(\"Digite uma temperatura em Fahrenheit: \"))\n",
        "temperatura = 5 *((temperatura-32)/9) \n",
        "print(str(round(temperatura,2)) + \" Graus Celsius\")\n"
      ],
      "metadata": {
        "colab": {
          "base_uri": "https://localhost:8080/"
        },
        "id": "MP9-qcacGcLa",
        "outputId": "43363048-cc50-49da-b2ad-7e20b43e336f"
      },
      "execution_count": 14,
      "outputs": [
        {
          "output_type": "stream",
          "name": "stdout",
          "text": [
            "Digite uma temperatura em Fahrenheit: 100\n",
            "37.78 Graus Celsius\n"
          ]
        }
      ]
    },
    {
      "cell_type": "markdown",
      "source": [
        "4- Faça\n",
        "um Programa que peça um número correspondente a um determinado ano e em seguida\n",
        "informe se este ano é ou não bissexto."
      ],
      "metadata": {
        "id": "l2S8Y3S1IGZK"
      }
    },
    {
      "cell_type": "code",
      "source": [
        "ano = int(input(\"Digite um ano qualquer: \"))\n",
        "\n",
        "if ano < 0: \n",
        "  print('Ano invalido')\n",
        "else:\n",
        "  ano = ano%4\n",
        "  if ano == 0:\n",
        "    print(ano)\n",
        "    print('Este é um ano bissexto')\n",
        "  elif ano != 0:\n",
        "    print(ano)\n",
        "    print('Este não é um ano bissexto')\n",
        "\n"
      ],
      "metadata": {
        "colab": {
          "base_uri": "https://localhost:8080/"
        },
        "id": "nl8vTk-nIHtZ",
        "outputId": "15c5a59b-969f-4f94-f5d1-81bc81b5281a"
      },
      "execution_count": 27,
      "outputs": [
        {
          "output_type": "stream",
          "name": "stdout",
          "text": [
            "Digite um ano qualquer: 2004\n",
            "0\n",
            "Este é um ano bissexto\n"
          ]
        }
      ]
    },
    {
      "cell_type": "markdown",
      "source": [
        "5 - Faça\n",
        "um programa que gera uma lista dos números primos existentes entre 1 e um\n",
        "número inteiro informado pelo usuário."
      ],
      "metadata": {
        "id": "B4his5EYL6W3"
      }
    },
    {
      "cell_type": "code",
      "source": [
        "numero = int(input(\"Digite um número: \"))\n",
        "lista = []\n",
        "\n",
        "for i in range(numero + 1):\n",
        "    if i % 2 == 1 and i != 2:\n",
        "        lista.append(i)\n",
        "\n",
        "print(\"Números primos: \", lista)"
      ],
      "metadata": {
        "colab": {
          "base_uri": "https://localhost:8080/"
        },
        "id": "Znb4SsKTL7OV",
        "outputId": "63b08d65-8cd1-459f-a523-816c47a5f990"
      },
      "execution_count": 29,
      "outputs": [
        {
          "output_type": "stream",
          "name": "stdout",
          "text": [
            "Digite um número: 85\n",
            "Números primos:  [1, 3, 5, 7, 9, 11, 13, 15, 17, 19, 21, 23, 25, 27, 29, 31, 33, 35, 37, 39, 41, 43, 45, 47, 49, 51, 53, 55, 57, 59, 61, 63, 65, 67, 69, 71, 73, 75, 77, 79, 81, 83, 85]\n"
          ]
        }
      ]
    },
    {
      "cell_type": "markdown",
      "source": [
        "6 - Faça\n",
        "um Programa que peça a idade e a altura de 5 pessoas, armazene cada informação\n",
        "no seu respectivo vetor. Imprima a idade e a altura na ordem inversa a ordem\n",
        "lida."
      ],
      "metadata": {
        "id": "_KJfcPEANRD2"
      }
    },
    {
      "cell_type": "code",
      "source": [
        "listaIdade = []\n",
        "listaAltura = []\n",
        "\n",
        "\n",
        "for i in range(5):\n",
        "  idade = int(input(\"Informe a idade: \"))\n",
        "  listaIdade.append(idade)\n",
        "  if len(listaIdade)== 5:\n",
        "    for i in range(5):\n",
        "      altura = int(input(\"Informe a altura: \"))\n",
        "      listaAltura.append(altura)\n",
        "      if len(listaAltura)== 5:\n",
        "        break\n",
        "\n",
        "listaIdade.reverse()\n",
        "listaAltura.reverse()\n",
        "print(listaIdade)\n",
        "print(listaAltura)\n"
      ],
      "metadata": {
        "colab": {
          "base_uri": "https://localhost:8080/"
        },
        "id": "B57DC284NR9L",
        "outputId": "78136188-3d49-4571-e4d2-3b67f8ad7497"
      },
      "execution_count": 40,
      "outputs": [
        {
          "output_type": "stream",
          "name": "stdout",
          "text": [
            "Informe a idade: 1\n",
            "Informe a idade: 2\n",
            "Informe a idade: 3\n",
            "Informe a idade: 4\n",
            "Informe a idade: 5\n",
            "Informe a altura: 1\n",
            "Informe a altura: 2\n",
            "Informe a altura: 3\n",
            "Informe a altura: 4\n",
            "Informe a altura: 5\n",
            "[5, 4, 3, 2, 1]\n",
            "[5, 4, 3, 2, 1]\n"
          ]
        }
      ]
    },
    {
      "cell_type": "markdown",
      "source": [
        "7- Reverso do número. Faça uma função que retorne o reverso de um número inteiro\n",
        "informado."
      ],
      "metadata": {
        "id": "56xQ_Z8zQ6C5"
      }
    },
    {
      "cell_type": "code",
      "source": [
        "numero = int(input(\"Digite um numero: \"))\n",
        "\n",
        "numero_str = str(numero)\n",
        "numero_reverse = \"\".join(reversed(numero_str))\n",
        "print(numero_reverse)"
      ],
      "metadata": {
        "colab": {
          "base_uri": "https://localhost:8080/"
        },
        "id": "cHkMw1YeQ9hL",
        "outputId": "b78c6d9a-306d-47d9-b92e-5798ef559930"
      },
      "execution_count": 52,
      "outputs": [
        {
          "output_type": "stream",
          "name": "stdout",
          "text": [
            "Digite um numero: 12345\n",
            "54321\n"
          ]
        }
      ]
    }
  ]
}